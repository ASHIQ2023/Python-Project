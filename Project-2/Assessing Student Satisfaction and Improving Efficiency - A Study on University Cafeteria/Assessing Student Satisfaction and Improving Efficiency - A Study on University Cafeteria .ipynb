{
 "cells": [
  {
   "cell_type": "markdown",
   "id": "c9787bb5",
   "metadata": {},
   "source": [
    "# Chi-Squared Analysis of Variables (Number of Features Selection)"
   ]
  },
  {
   "cell_type": "code",
   "execution_count": null,
   "id": "b693fe68",
   "metadata": {},
   "outputs": [],
   "source": [
    "import pandas as pd"
   ]
  },
  {
   "cell_type": "code",
   "execution_count": null,
   "id": "e69d5a55",
   "metadata": {},
   "outputs": [],
   "source": [
    "import numpy as np"
   ]
  },
  {
   "cell_type": "code",
   "execution_count": null,
   "id": "65e4a197",
   "metadata": {},
   "outputs": [],
   "source": [
    "data = pd.read_csv(\"C:\\\\Users\\\\ASHIQ\\\\Desktop\\\\acafeteria.csv\")\n",
    "X = data.drop(columns = ['Overall_Satisfaction'], axis=1)\n",
    "y = data['Overall_Satisfaction']"
   ]
  },
  {
   "cell_type": "code",
   "execution_count": null,
   "id": "5f4d6774",
   "metadata": {},
   "outputs": [],
   "source": [
    "from sklearn.feature_selection import chi2\n",
    "chi_scores = chi2(X, y)"
   ]
  },
  {
   "cell_type": "code",
   "execution_count": null,
   "id": "06c0b0c5",
   "metadata": {},
   "outputs": [],
   "source": [
    "score_value= pd.DataFrame({'Feature': X.columns, 'Chi-Squared Score': chi_scores[0], 'p-value': chi_scores[1]})\n",
    "score_value = score_value.sort_values(by='Chi-Squared Score', ascending=False).reset_index(drop=True)"
   ]
  },
  {
   "cell_type": "code",
   "execution_count": null,
   "id": "aea9ef5c",
   "metadata": {},
   "outputs": [],
   "source": [
    "colors = np.where(scores_table['p-value'] > 0.05, 'red', 'blue')"
   ]
  },
  {
   "cell_type": "code",
   "execution_count": null,
   "id": "0cbedfc7",
   "metadata": {},
   "outputs": [],
   "source": [
    "import matplotlib.pyplot as plt"
   ]
  },
  {
   "cell_type": "code",
   "execution_count": null,
   "id": "7cee77bf",
   "metadata": {},
   "outputs": [],
   "source": [
    "plt.figure(figsize=(10, 6))\n",
    "plt.bar(score_value ['Feature'], score_value ['Chi-Squared Score'], color=colors)\n",
    "plt.xlabel('Variable')\n",
    "plt.ylabel('Chi-Squared Score')\n",
    "plt.title('Chi-Squared Score vs. Variable')\n",
    "plt.xticks(rotation=90)\n",
    "plt.legend(['Low Importance (p-value > 0.05)', 'High Importance (p-value <= 0.05)'])\n",
    "plt.tight_layout()"
   ]
  },
  {
   "cell_type": "code",
   "execution_count": null,
   "id": "0b0dc146",
   "metadata": {},
   "outputs": [],
   "source": [
    "plt.savefig('chi_squared_histogram_figure.png')"
   ]
  },
  {
   "cell_type": "code",
   "execution_count": null,
   "id": "91f79bb1",
   "metadata": {},
   "outputs": [],
   "source": [
    "with pd.ExcelWriter('chi_squared_test_results.xlsx') as writer:\n",
    "    score_value.to_excel(writer, sheet_name='Chi-Squared Scores', index=False)\n",
    "    plt.savefig(writer, sheet_name='Chi-Squared Histogram', format='png')"
   ]
  },
  {
   "cell_type": "code",
   "execution_count": null,
   "id": "bf729254",
   "metadata": {},
   "outputs": [],
   "source": [
    "plt.show()"
   ]
  },
  {
   "cell_type": "markdown",
   "id": "afa0aa0b",
   "metadata": {},
   "source": [
    "# Recursive Feature Elimination Process"
   ]
  },
  {
   "cell_type": "code",
   "execution_count": 1,
   "id": "5cad4857",
   "metadata": {},
   "outputs": [],
   "source": [
    "import numpy as np"
   ]
  },
  {
   "cell_type": "code",
   "execution_count": null,
   "id": "ee69b5d7",
   "metadata": {},
   "outputs": [],
   "source": [
    "import panda as pd"
   ]
  },
  {
   "cell_type": "code",
   "execution_count": null,
   "id": "27a9fcbb",
   "metadata": {},
   "outputs": [],
   "source": [
    "data = pd.read_csv(\"C:\\\\Users\\\\ASHIQ\\\\Desktop\\\\acafeteria.csv\")"
   ]
  },
  {
   "cell_type": "code",
   "execution_count": null,
   "id": "1a9ce0d3",
   "metadata": {},
   "outputs": [],
   "source": [
    "chi_squared_scores = pd.read_csv(\"C:\\\\Users\\\\ASHIQ\\\\Desktop\\\\chi_squared_score.csv\")[\"Chi-Squared Score\"].values"
   ]
  },
  {
   "cell_type": "code",
   "execution_count": null,
   "id": "fa50f429",
   "metadata": {},
   "outputs": [],
   "source": [
    "from docx import Document\n",
    "from docx.shared import Inches\n",
    "from sklearn.feature_selection import RFE, chi2\n",
    "from sklearn.tree import DecisionTreeClassifier\n",
    "from sklearn.model_selection import cross_val_score, cross_val_predict\n",
    "from sklearn.ensemble import RandomForestClassifier, GradientBoostingClassifier\n",
    "from sklearn.linear_model import LogisticRegression\n",
    "from tabulate import tabulate\n",
    "from sklearn.metrics import accuracy_score, precision_score, recall_score, f1_score"
   ]
  },
  {
   "cell_type": "code",
   "execution_count": null,
   "id": "c70c9212",
   "metadata": {},
   "outputs": [],
   "source": [
    "X = data.drop(columns=['Overall_Satisfaction'], axis=1)\n",
    "y = data['Overall_Satisfaction']"
   ]
  },
  {
   "cell_type": "code",
   "execution_count": null,
   "id": "99153a96",
   "metadata": {},
   "outputs": [],
   "source": [
    "estimators = [\n",
    "    ('Decision Tree', DecisionTreeClassifier()),\n",
    "    ('Random Forest', RandomForestClassifier()),\n",
    "    ('Gradient Boosting', GradientBoostingClassifier()),\n",
    "    ('Logistic Regression', LogisticRegression())\n",
    "]\n",
    "\n",
    "results = []"
   ]
  },
  {
   "cell_type": "code",
   "execution_count": null,
   "id": "0a28058e",
   "metadata": {},
   "outputs": [],
   "source": [
    "for name, estimator in estimators:\n",
    "    rfe = RFE(estimator=estimator, n_features_to_select=4)\n",
    "    rfe.fit(X, y) "
   ]
  },
  {
   "cell_type": "code",
   "execution_count": null,
   "id": "9e6bbcb6",
   "metadata": {},
   "outputs": [],
   "source": [
    "selected_features = X.columns[rfe.support_] "
   ]
  },
  {
   "cell_type": "code",
   "execution_count": null,
   "id": "14c01415",
   "metadata": {},
   "outputs": [],
   "source": [
    "X_selected = X[selected_features]\n",
    "scores = cross_val_score(estimator, X_selected, y, cv=5)\n",
    "mean_score = np.mean(scores)"
   ]
  },
  {
   "cell_type": "code",
   "execution_count": null,
   "id": "23295ac4",
   "metadata": {},
   "outputs": [],
   "source": [
    "y_pred = cross_val_predict(estimator, X_selected, y, cv=5)\n",
    "accuracy = accuracy_score(y, y_pred)\n",
    "precision = precision_score(y, y_pred, average='weighted')\n",
    "recall = recall_score(y, y_pred, average='weighted')\n",
    "f1 = f1_score(y, y_pred, average='weighted') "
   ]
  },
  {
   "cell_type": "code",
   "execution_count": null,
   "id": "cc38ab8b",
   "metadata": {},
   "outputs": [],
   "source": [
    "results.append([name, selected_features, mean_score, chi_squared_scores, accuracy, precision, recall, f1])"
   ]
  },
  {
   "cell_type": "code",
   "execution_count": null,
   "id": "045fed99",
   "metadata": {},
   "outputs": [],
   "source": [
    "table_headers = ['Estimator', 'Selected Features', 'Mean Cross-Validation Score','Chi-Squared Scores', 'Accuracy', 'Precision', 'Recall', 'F1 Score']\n",
    "table_data = []\n",
    "\n",
    "for name, selected_features, mean_score, _, accuracy, precision, recall, f1 in results:\n",
    "    table_data.append([name, ', '.join(selected_features), mean_score, '', accuracy, precision, recall, f1])\n",
    "\n",
    "table = tabulate(table_data, headers=table_headers)"
   ]
  },
  {
   "cell_type": "code",
   "execution_count": null,
   "id": "2cc0ae77",
   "metadata": {},
   "outputs": [],
   "source": [
    "doc = Document()\n",
    "doc.add_heading('Feature Selection Results', level=1)\n",
    "table_paragraph = doc.add_paragraph()\n",
    "table_paragraph.add_run(table)"
   ]
  },
  {
   "cell_type": "code",
   "execution_count": null,
   "id": "30b19722",
   "metadata": {},
   "outputs": [],
   "source": [
    "results_df = pd.DataFrame(results, columns=['Estimator', 'Selected Features', 'Mean CV Score', 'Chi-Squared Scores', 'Accuracy', 'Precision', 'Recall', 'F1 Score'])"
   ]
  },
  {
   "cell_type": "code",
   "execution_count": null,
   "id": "df77c037",
   "metadata": {},
   "outputs": [],
   "source": [
    "results_df.to_excel('feature_selection_results.xlsx', index=False)"
   ]
  }
 ],
 "metadata": {
  "kernelspec": {
   "display_name": "Python 3 (ipykernel)",
   "language": "python",
   "name": "python3"
  },
  "language_info": {
   "codemirror_mode": {
    "name": "ipython",
    "version": 3
   },
   "file_extension": ".py",
   "mimetype": "text/x-python",
   "name": "python",
   "nbconvert_exporter": "python",
   "pygments_lexer": "ipython3",
   "version": "3.9.7"
  }
 },
 "nbformat": 4,
 "nbformat_minor": 5
}
